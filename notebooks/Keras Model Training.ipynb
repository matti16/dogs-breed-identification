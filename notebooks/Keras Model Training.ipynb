{
 "cells": [
  {
   "cell_type": "code",
   "execution_count": 1,
   "metadata": {},
   "outputs": [
    {
     "name": "stderr",
     "output_type": "stream",
     "text": [
      "Using TensorFlow backend.\n"
     ]
    }
   ],
   "source": [
    "%matplotlib inline\n",
    "import numpy as np\n",
    "import pandas as pd\n",
    "import datetime as dt\n",
    "import json\n",
    "import matplotlib.pyplot as plt\n",
    "import matplotlib.image as mpimg\n",
    "import pandas as pd\n",
    "import os\n",
    "\n",
    "from keras.preprocessing.image import ImageDataGenerator\n",
    "from keras.preprocessing import image\n",
    "from keras.applications import xception\n",
    "from keras.layers import GlobalAveragePooling2D, Dense\n",
    "from keras import Model\n",
    "from keras.optimizers import SGD\n",
    "from keras import losses\n",
    "import keras\n",
    "\n",
    "from sklearn.model_selection import train_test_split"
   ]
  },
  {
   "cell_type": "code",
   "execution_count": 2,
   "metadata": {},
   "outputs": [],
   "source": [
    "DATA_FLODER = os.path.join(\"..\", \"data\")\n",
    "TRAIN_FOLDER = os.path.join(DATA_FLODER, \"train\")\n",
    "TEST_FOLDER = os.path.join(DATA_FLODER, \"test\")\n",
    "SUBMISSIONS_FOLDER = os.path.join(DATA_FLODER, \"submissions\")\n",
    "LABELS_FILE = os.path.join(DATA_FLODER, \"labels.csv\")\n",
    "IMG_EXTENSION = \".jpg\"\n",
    "\n",
    "MODELS_FOLDER = os.path.join(\"..\", \"models\")\n",
    "MODEL_FILE = os.path.join(MODELS_FOLDER, \"model.h5\")\n",
    "\n",
    "RANDOM_SEED = 42\n",
    "\n",
    "full_file_path = lambda x,y: os.path.join(x, y)"
   ]
  },
  {
   "cell_type": "code",
   "execution_count": 54,
   "metadata": {},
   "outputs": [],
   "source": [
    "IMG_SIZE = 299"
   ]
  },
  {
   "cell_type": "markdown",
   "metadata": {},
   "source": [
    "# Labels Dataframe"
   ]
  },
  {
   "cell_type": "code",
   "execution_count": 43,
   "metadata": {},
   "outputs": [
    {
     "data": {
      "text/html": [
       "<div>\n",
       "<style scoped>\n",
       "    .dataframe tbody tr th:only-of-type {\n",
       "        vertical-align: middle;\n",
       "    }\n",
       "\n",
       "    .dataframe tbody tr th {\n",
       "        vertical-align: top;\n",
       "    }\n",
       "\n",
       "    .dataframe thead th {\n",
       "        text-align: right;\n",
       "    }\n",
       "</style>\n",
       "<table border=\"1\" class=\"dataframe\">\n",
       "  <thead>\n",
       "    <tr style=\"text-align: right;\">\n",
       "      <th></th>\n",
       "      <th>id</th>\n",
       "      <th>breed</th>\n",
       "      <th>filename</th>\n",
       "      <th>breed_freq</th>\n",
       "    </tr>\n",
       "  </thead>\n",
       "  <tbody>\n",
       "    <tr>\n",
       "      <td>0</td>\n",
       "      <td>000bec180eb18c7604dcecc8fe0dba07</td>\n",
       "      <td>boston_bull</td>\n",
       "      <td>000bec180eb18c7604dcecc8fe0dba07.jpg</td>\n",
       "      <td>0.008511</td>\n",
       "    </tr>\n",
       "    <tr>\n",
       "      <td>1</td>\n",
       "      <td>001513dfcb2ffafc82cccf4d8bbaba97</td>\n",
       "      <td>dingo</td>\n",
       "      <td>001513dfcb2ffafc82cccf4d8bbaba97.jpg</td>\n",
       "      <td>0.007826</td>\n",
       "    </tr>\n",
       "    <tr>\n",
       "      <td>2</td>\n",
       "      <td>001cdf01b096e06d78e9e5112d419397</td>\n",
       "      <td>pekinese</td>\n",
       "      <td>001cdf01b096e06d78e9e5112d419397.jpg</td>\n",
       "      <td>0.007337</td>\n",
       "    </tr>\n",
       "    <tr>\n",
       "      <td>3</td>\n",
       "      <td>00214f311d5d2247d5dfe4fe24b2303d</td>\n",
       "      <td>bluetick</td>\n",
       "      <td>00214f311d5d2247d5dfe4fe24b2303d.jpg</td>\n",
       "      <td>0.008315</td>\n",
       "    </tr>\n",
       "    <tr>\n",
       "      <td>4</td>\n",
       "      <td>0021f9ceb3235effd7fcde7f7538ed62</td>\n",
       "      <td>golden_retriever</td>\n",
       "      <td>0021f9ceb3235effd7fcde7f7538ed62.jpg</td>\n",
       "      <td>0.006554</td>\n",
       "    </tr>\n",
       "  </tbody>\n",
       "</table>\n",
       "</div>"
      ],
      "text/plain": [
       "                                 id             breed  \\\n",
       "0  000bec180eb18c7604dcecc8fe0dba07       boston_bull   \n",
       "1  001513dfcb2ffafc82cccf4d8bbaba97             dingo   \n",
       "2  001cdf01b096e06d78e9e5112d419397          pekinese   \n",
       "3  00214f311d5d2247d5dfe4fe24b2303d          bluetick   \n",
       "4  0021f9ceb3235effd7fcde7f7538ed62  golden_retriever   \n",
       "\n",
       "                               filename  breed_freq  \n",
       "0  000bec180eb18c7604dcecc8fe0dba07.jpg    0.008511  \n",
       "1  001513dfcb2ffafc82cccf4d8bbaba97.jpg    0.007826  \n",
       "2  001cdf01b096e06d78e9e5112d419397.jpg    0.007337  \n",
       "3  00214f311d5d2247d5dfe4fe24b2303d.jpg    0.008315  \n",
       "4  0021f9ceb3235effd7fcde7f7538ed62.jpg    0.006554  "
      ]
     },
     "execution_count": 43,
     "metadata": {},
     "output_type": "execute_result"
    }
   ],
   "source": [
    "df = pd.read_csv(LABELS_FILE)\n",
    "\n",
    "n_classes = len(df['breed'].unique())\n",
    "breed_freqs = df['breed'].value_counts(normalize=True)\n",
    "\n",
    "df['filename'] = df['id'] + IMG_EXTENSION \n",
    "df['breed_freq'] = df['breed'].map(lambda x: breed_freqs[x])\n",
    "\n",
    "df.head()"
   ]
  },
  {
   "cell_type": "markdown",
   "metadata": {},
   "source": [
    "# Data generator"
   ]
  },
  {
   "cell_type": "markdown",
   "metadata": {},
   "source": [
    "Create an Image Data Generator with data augmentation, point the genenrator to the image files using the lables DataFrame."
   ]
  },
  {
   "cell_type": "code",
   "execution_count": 55,
   "metadata": {},
   "outputs": [
    {
     "name": "stdout",
     "output_type": "stream",
     "text": [
      "Found 9200 validated image filenames belonging to 120 classes.\n",
      "Found 1022 validated image filenames belonging to 120 classes.\n"
     ]
    }
   ],
   "source": [
    "img_generator = ImageDataGenerator(\n",
    "        zoom_range=0.2,\n",
    "        rotation_range=30,\n",
    "        validation_split=0.1,\n",
    "        preprocessing_function=xception.preprocess_input,\n",
    "        horizontal_flip=True)\n",
    "\n",
    "all_generator = img_generator.flow_from_dataframe(\n",
    "        dataframe=df,\n",
    "        directory=TRAIN_FOLDER,\n",
    "        x_col=\"filename\",\n",
    "        y_col=\"breed\",\n",
    "        target_size=(IMG_SIZE, IMG_SIZE),\n",
    "        batch_size=32,\n",
    "        class_mode='categorical')\n",
    "\n",
    "json.dump(all_generator.class_indices, open(os.path.join(MODELS_FOLDER, \"classes.json\"), \"w\"))"
   ]
  },
  {
   "cell_type": "markdown",
   "metadata": {},
   "source": [
    "# Model"
   ]
  },
  {
   "cell_type": "markdown",
   "metadata": {},
   "source": [
    "Load Xception model pretarined on ImageNet without top layer. <br>\n",
    "Add Average Pooling and last dense layer with n_classes units and Softmax."
   ]
  },
  {
   "cell_type": "code",
   "execution_count": 9,
   "metadata": {},
   "outputs": [],
   "source": [
    "base_model = xception.Xception(weights=\"imagenet\", include_top=False)\n",
    "avg = GlobalAveragePooling2D()(base_model.output)\n",
    "output = Dense(n_classes, activation=\"softmax\")(avg)\n",
    "\n",
    "model = Model(inputs=base_model.input, outputs=output)"
   ]
  },
  {
   "cell_type": "markdown",
   "metadata": {},
   "source": [
    "# Training"
   ]
  },
  {
   "cell_type": "markdown",
   "metadata": {},
   "source": [
    "Fine tune the Xception model on the dogs data from Kaggle"
   ]
  },
  {
   "cell_type": "markdown",
   "metadata": {},
   "source": [
    "## Freeze"
   ]
  },
  {
   "cell_type": "markdown",
   "metadata": {},
   "source": [
    "Freeze already trained layers"
   ]
  },
  {
   "cell_type": "code",
   "execution_count": 11,
   "metadata": {},
   "outputs": [],
   "source": [
    "print(\"Number of layers in base model {}\".format(len(base_model.layers)))\n",
    "for layer in base_model.layers:\n",
    "    layer.trainable = False"
   ]
  },
  {
   "cell_type": "markdown",
   "metadata": {},
   "source": [
    "## Train Head"
   ]
  },
  {
   "cell_type": "markdown",
   "metadata": {},
   "source": [
    "Train the top of the network"
   ]
  },
  {
   "cell_type": "code",
   "execution_count": null,
   "metadata": {},
   "outputs": [
    {
     "name": "stdout",
     "output_type": "stream",
     "text": [
      "Epoch 1/5\n",
      "255/256 [============================>.] - ETA: 7s - loss: 1.4907 - accuracy: 0.6301 "
     ]
    }
   ],
   "source": [
    "optimizer = SGD(lr=0.2, momentum=0.9, decay=0.01)\n",
    "model.compile(loss=losses.categorical_crossentropy, optimizer=optimizer, metrics=['accuracy', 'top_k_categorical_accuracy'])\n",
    "history = model.fit_generator(all_generator, epochs=5)\n",
    "\n",
    "model.save(MODEL_FILE)"
   ]
  },
  {
   "cell_type": "markdown",
   "metadata": {},
   "source": [
    "## Unfreeze"
   ]
  },
  {
   "cell_type": "markdown",
   "metadata": {},
   "source": [
    "Unfreeze other layers and train a bit with low learning rate."
   ]
  },
  {
   "cell_type": "code",
   "execution_count": null,
   "metadata": {},
   "outputs": [],
   "source": [
    "unfreezing_steps = 2\n",
    "step_len = len(base_model.layers)/unfreezing_steps\n",
    "\n",
    "for unfreezing_step in range(unfreezing_steps):\n",
    "    print(\"Unfreezing {}/{} layers\".format(int(step_len*(unfreezing_step+1))+1, len(base_model.layers)))\n",
    "    for layer in base_model.layers[:-(int(step_len*(unfreezing_step+1))+1)]:\n",
    "        layer.trainable = True\n",
    "\n",
    "    optimizer = SGD(lr=0.01, momentum=0.9, decay=0.001)\n",
    "    model.compile(loss=losses.categorical_crossentropy, optimizer=optimizer, metrics=['accuracy', 'top_k_categorical_accuracy'])\n",
    "    history = model.fit_generator(all_generator, epochs=1)\n",
    "\n",
    "    model.save(MODEL_FILE)"
   ]
  },
  {
   "cell_type": "markdown",
   "metadata": {},
   "source": [
    "# Predict"
   ]
  },
  {
   "cell_type": "markdown",
   "metadata": {},
   "source": [
    "Make some predictions on training set"
   ]
  },
  {
   "cell_type": "code",
   "execution_count": 40,
   "metadata": {},
   "outputs": [],
   "source": [
    "class_labels = { v:k for k,v in all_generator.class_indices.items()}\n",
    "\n",
    "for i in range(5):\n",
    "    img_df = df.iloc[random.randint(0, len(df)-1)]\n",
    "    image_path = os.path.join(TRAIN_FOLDER, img_df.filename)\n",
    "    \n",
    "    img = image.load_img(image_path, target_size=(IMG_SIZE, IMG_SIZE))\n",
    "\n",
    "    plt.imshow(img)\n",
    "\n",
    "    img = np.expand_dims(img, axis=0)\n",
    "    result = model.predict(xception.preprocess_input(img))\n",
    "    label = class_labels[np.argmax(result[0])]\n",
    "    plt.title(f\"Predicted: {label} - True: {img_df.breed}\")\n",
    "\n",
    "    plt.show()"
   ]
  },
  {
   "cell_type": "markdown",
   "metadata": {},
   "source": [
    "Predict test"
   ]
  },
  {
   "cell_type": "code",
   "execution_count": null,
   "metadata": {},
   "outputs": [],
   "source": [
    "sample_submission = pd.read_csv(os.path.join(DATA_FOLDER, \"sample_submission.csv\"))\n",
    "submission = pd.DataFrame(columns=sample_submission.columns)\n",
    "\n",
    "for index, row in sample_submission.iterrows():\n",
    "    \n",
    "    if index % 500 == 0:\n",
    "        print(index/len(sample_submission))\n",
    "\n",
    "    image_path = os.path.join(TEST_FOLDER, f\"{row['id']}.jpg\")\n",
    "    img = image.load_img(image_path, target_size=(IMG_SIZE, IMG_SIZE))\n",
    "\n",
    "    img = np.expand_dims(img, axis=0)\n",
    "    result = model.predict(xception.preprocess_input(img))\n",
    "    new_row = {'id': row['id']}\n",
    "    for i, r in enumerate(result[0]):\n",
    "        new_row[class_labels[i]] = r\n",
    "    submission = submission.append(new_row, ignore_index=True)\n",
    "    \n",
    "submission.head()\n",
    "submission.to_csv(os.path.join(DATA_FOLDER, \"submission.csv\"), ignore_index=True)"
   ]
  }
 ],
 "metadata": {
  "kernelspec": {
   "display_name": "Python 3",
   "language": "python",
   "name": "python3"
  },
  "language_info": {
   "codemirror_mode": {
    "name": "ipython",
    "version": 3
   },
   "file_extension": ".py",
   "mimetype": "text/x-python",
   "name": "python",
   "nbconvert_exporter": "python",
   "pygments_lexer": "ipython3",
   "version": "3.7.4"
  }
 },
 "nbformat": 4,
 "nbformat_minor": 2
}
